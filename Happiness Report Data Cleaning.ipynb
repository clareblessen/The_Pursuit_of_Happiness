{
 "cells": [
  {
   "cell_type": "markdown",
   "metadata": {},
   "source": [
    "### Import Libraries"
   ]
  },
  {
   "cell_type": "code",
   "execution_count": 7,
   "metadata": {},
   "outputs": [],
   "source": [
    "import numpy as np\n",
    "import pandas as pd\n",
    "\n",
    "import matplotlib.pyplot as plt\n",
    "plt.style.use('fivethirtyeight')\n",
    "import seaborn as sns\n",
    "\n",
    "from statsmodels.formula.api import ols\n",
    "from statsmodels.stats.outliers_influence import variance_inflation_factor\n",
    "import statsmodels.api as sm\n",
    "import scipy.stats as stats\n",
    "\n",
    "from sklearn.model_selection import train_test_split \n",
    "from sklearn.linear_model import LinearRegression\n",
    "from sklearn.ensemble import RandomForestRegressor\n",
    "from sklearn.tree import DecisionTreeRegressor\n",
    "from sklearn.metrics import r2_score"
   ]
  },
  {
   "cell_type": "code",
   "execution_count": 8,
   "metadata": {},
   "outputs": [],
   "source": [
    "df18 = pd.read_csv('2018.csv')"
   ]
  },
  {
   "cell_type": "code",
   "execution_count": 9,
   "metadata": {},
   "outputs": [],
   "source": [
    "df18['Year'] = '2018'"
   ]
  },
  {
   "cell_type": "code",
   "execution_count": 10,
   "metadata": {},
   "outputs": [],
   "source": [
    "df17 = pd.read_csv('2017.csv')"
   ]
  },
  {
   "cell_type": "code",
   "execution_count": 11,
   "metadata": {},
   "outputs": [],
   "source": [
    "df17['Year'] = '2017'"
   ]
  },
  {
   "cell_type": "code",
   "execution_count": 12,
   "metadata": {},
   "outputs": [],
   "source": [
    "df16 = pd.read_csv('2016.csv')"
   ]
  },
  {
   "cell_type": "code",
   "execution_count": 13,
   "metadata": {},
   "outputs": [],
   "source": [
    "df16['Year'] = '2016'"
   ]
  },
  {
   "cell_type": "code",
   "execution_count": 14,
   "metadata": {},
   "outputs": [],
   "source": [
    "df15 = pd.read_csv(\"2015.csv\")"
   ]
  },
  {
   "cell_type": "code",
   "execution_count": 15,
   "metadata": {},
   "outputs": [],
   "source": [
    "df15['Year'] = '2015'"
   ]
  },
  {
   "cell_type": "code",
   "execution_count": 16,
   "metadata": {},
   "outputs": [],
   "source": [
    "df15 = df15.rename(columns = {'Happiness Rank': 'Rank'} )\n",
    "df16 = df16.rename(columns = {'Happiness Rank': 'Rank'} )\n",
    "df17 = df17.rename(columns = {'Happiness.Rank': 'Rank', 'Happiness.Score': 'Happiness Score',  'Economy..GDP.per.Capita.':'Economy (GDP per Capita)', 'Health..Life.Expectancy':'Health (Life Expectancy)', 'Trust..Government.Corruption.':'Trust (Government Corruption)'})\n",
    "df18 = df18.rename(columns = {'Score': 'Happiness Score','Social_Support':'Family', 'GDP_per_Capita':'Economy (GDP per Capita)', 'Freedom_To_Make_Life_Choices':'Freedom','Healthy_Life_Expectancy':'Health (Life Expectancy)', 'Perceptions_Of_Corruption':'Trust (Government Corruption)'})                   \n",
    "                   "
   ]
  },
  {
   "cell_type": "code",
   "execution_count": 17,
   "metadata": {
    "scrolled": false
   },
   "outputs": [
    {
     "name": "stderr",
     "output_type": "stream",
     "text": [
      "/opt/anaconda3/lib/python3.7/site-packages/ipykernel_launcher.py:1: FutureWarning: Sorting because non-concatenation axis is not aligned. A future version\n",
      "of pandas will change to not sort by default.\n",
      "\n",
      "To accept the future behavior, pass 'sort=False'.\n",
      "\n",
      "To retain the current behavior and silence the warning, pass 'sort=True'.\n",
      "\n",
      "  \"\"\"Entry point for launching an IPython kernel.\n"
     ]
    }
   ],
   "source": [
    "df = pd.concat([df15, df16,df17,df18])"
   ]
  },
  {
   "cell_type": "code",
   "execution_count": 18,
   "metadata": {},
   "outputs": [
    {
     "data": {
      "text/html": [
       "<div>\n",
       "<style scoped>\n",
       "    .dataframe tbody tr th:only-of-type {\n",
       "        vertical-align: middle;\n",
       "    }\n",
       "\n",
       "    .dataframe tbody tr th {\n",
       "        vertical-align: top;\n",
       "    }\n",
       "\n",
       "    .dataframe thead th {\n",
       "        text-align: right;\n",
       "    }\n",
       "</style>\n",
       "<table border=\"1\" class=\"dataframe\">\n",
       "  <thead>\n",
       "    <tr style=\"text-align: right;\">\n",
       "      <th></th>\n",
       "      <th>Country</th>\n",
       "      <th>Dystopia Residual</th>\n",
       "      <th>Dystopia.Residual</th>\n",
       "      <th>Economy (GDP per Capita)</th>\n",
       "      <th>Family</th>\n",
       "      <th>Freedom</th>\n",
       "      <th>GDP_Per_Capita</th>\n",
       "      <th>Generosity</th>\n",
       "      <th>Happiness Score</th>\n",
       "      <th>Health (Life Expectancy)</th>\n",
       "      <th>...</th>\n",
       "      <th>Lower Confidence Interval</th>\n",
       "      <th>Rank</th>\n",
       "      <th>Region</th>\n",
       "      <th>Residual</th>\n",
       "      <th>Standard Error</th>\n",
       "      <th>Trust (Government Corruption)</th>\n",
       "      <th>Upper Confidence Interval</th>\n",
       "      <th>Whisker.high</th>\n",
       "      <th>Whisker.low</th>\n",
       "      <th>Year</th>\n",
       "    </tr>\n",
       "  </thead>\n",
       "  <tbody>\n",
       "    <tr>\n",
       "      <td>0</td>\n",
       "      <td>Switzerland</td>\n",
       "      <td>2.51738</td>\n",
       "      <td>NaN</td>\n",
       "      <td>1.39651</td>\n",
       "      <td>1.34951</td>\n",
       "      <td>0.66557</td>\n",
       "      <td>NaN</td>\n",
       "      <td>0.29678</td>\n",
       "      <td>7.587</td>\n",
       "      <td>0.94143</td>\n",
       "      <td>...</td>\n",
       "      <td>NaN</td>\n",
       "      <td>1</td>\n",
       "      <td>Western Europe</td>\n",
       "      <td>NaN</td>\n",
       "      <td>0.03411</td>\n",
       "      <td>0.41978</td>\n",
       "      <td>NaN</td>\n",
       "      <td>NaN</td>\n",
       "      <td>NaN</td>\n",
       "      <td>2015</td>\n",
       "    </tr>\n",
       "    <tr>\n",
       "      <td>1</td>\n",
       "      <td>Iceland</td>\n",
       "      <td>2.70201</td>\n",
       "      <td>NaN</td>\n",
       "      <td>1.30232</td>\n",
       "      <td>1.40223</td>\n",
       "      <td>0.62877</td>\n",
       "      <td>NaN</td>\n",
       "      <td>0.43630</td>\n",
       "      <td>7.561</td>\n",
       "      <td>0.94784</td>\n",
       "      <td>...</td>\n",
       "      <td>NaN</td>\n",
       "      <td>2</td>\n",
       "      <td>Western Europe</td>\n",
       "      <td>NaN</td>\n",
       "      <td>0.04884</td>\n",
       "      <td>0.14145</td>\n",
       "      <td>NaN</td>\n",
       "      <td>NaN</td>\n",
       "      <td>NaN</td>\n",
       "      <td>2015</td>\n",
       "    </tr>\n",
       "    <tr>\n",
       "      <td>2</td>\n",
       "      <td>Denmark</td>\n",
       "      <td>2.49204</td>\n",
       "      <td>NaN</td>\n",
       "      <td>1.32548</td>\n",
       "      <td>1.36058</td>\n",
       "      <td>0.64938</td>\n",
       "      <td>NaN</td>\n",
       "      <td>0.34139</td>\n",
       "      <td>7.527</td>\n",
       "      <td>0.87464</td>\n",
       "      <td>...</td>\n",
       "      <td>NaN</td>\n",
       "      <td>3</td>\n",
       "      <td>Western Europe</td>\n",
       "      <td>NaN</td>\n",
       "      <td>0.03328</td>\n",
       "      <td>0.48357</td>\n",
       "      <td>NaN</td>\n",
       "      <td>NaN</td>\n",
       "      <td>NaN</td>\n",
       "      <td>2015</td>\n",
       "    </tr>\n",
       "    <tr>\n",
       "      <td>3</td>\n",
       "      <td>Norway</td>\n",
       "      <td>2.46531</td>\n",
       "      <td>NaN</td>\n",
       "      <td>1.45900</td>\n",
       "      <td>1.33095</td>\n",
       "      <td>0.66973</td>\n",
       "      <td>NaN</td>\n",
       "      <td>0.34699</td>\n",
       "      <td>7.522</td>\n",
       "      <td>0.88521</td>\n",
       "      <td>...</td>\n",
       "      <td>NaN</td>\n",
       "      <td>4</td>\n",
       "      <td>Western Europe</td>\n",
       "      <td>NaN</td>\n",
       "      <td>0.03880</td>\n",
       "      <td>0.36503</td>\n",
       "      <td>NaN</td>\n",
       "      <td>NaN</td>\n",
       "      <td>NaN</td>\n",
       "      <td>2015</td>\n",
       "    </tr>\n",
       "    <tr>\n",
       "      <td>4</td>\n",
       "      <td>Canada</td>\n",
       "      <td>2.45176</td>\n",
       "      <td>NaN</td>\n",
       "      <td>1.32629</td>\n",
       "      <td>1.32261</td>\n",
       "      <td>0.63297</td>\n",
       "      <td>NaN</td>\n",
       "      <td>0.45811</td>\n",
       "      <td>7.427</td>\n",
       "      <td>0.90563</td>\n",
       "      <td>...</td>\n",
       "      <td>NaN</td>\n",
       "      <td>5</td>\n",
       "      <td>North America</td>\n",
       "      <td>NaN</td>\n",
       "      <td>0.03553</td>\n",
       "      <td>0.32957</td>\n",
       "      <td>NaN</td>\n",
       "      <td>NaN</td>\n",
       "      <td>NaN</td>\n",
       "      <td>2015</td>\n",
       "    </tr>\n",
       "  </tbody>\n",
       "</table>\n",
       "<p>5 rows × 21 columns</p>\n",
       "</div>"
      ],
      "text/plain": [
       "       Country  Dystopia Residual  Dystopia.Residual  \\\n",
       "0  Switzerland            2.51738                NaN   \n",
       "1      Iceland            2.70201                NaN   \n",
       "2      Denmark            2.49204                NaN   \n",
       "3       Norway            2.46531                NaN   \n",
       "4       Canada            2.45176                NaN   \n",
       "\n",
       "   Economy (GDP per Capita)   Family  Freedom  GDP_Per_Capita  Generosity  \\\n",
       "0                   1.39651  1.34951  0.66557             NaN     0.29678   \n",
       "1                   1.30232  1.40223  0.62877             NaN     0.43630   \n",
       "2                   1.32548  1.36058  0.64938             NaN     0.34139   \n",
       "3                   1.45900  1.33095  0.66973             NaN     0.34699   \n",
       "4                   1.32629  1.32261  0.63297             NaN     0.45811   \n",
       "\n",
       "   Happiness Score  Health (Life Expectancy)  ...  Lower Confidence Interval  \\\n",
       "0            7.587                   0.94143  ...                        NaN   \n",
       "1            7.561                   0.94784  ...                        NaN   \n",
       "2            7.527                   0.87464  ...                        NaN   \n",
       "3            7.522                   0.88521  ...                        NaN   \n",
       "4            7.427                   0.90563  ...                        NaN   \n",
       "\n",
       "   Rank          Region Residual  Standard Error  \\\n",
       "0     1  Western Europe      NaN         0.03411   \n",
       "1     2  Western Europe      NaN         0.04884   \n",
       "2     3  Western Europe      NaN         0.03328   \n",
       "3     4  Western Europe      NaN         0.03880   \n",
       "4     5   North America      NaN         0.03553   \n",
       "\n",
       "   Trust (Government Corruption)  Upper Confidence Interval  Whisker.high  \\\n",
       "0                        0.41978                        NaN           NaN   \n",
       "1                        0.14145                        NaN           NaN   \n",
       "2                        0.48357                        NaN           NaN   \n",
       "3                        0.36503                        NaN           NaN   \n",
       "4                        0.32957                        NaN           NaN   \n",
       "\n",
       "   Whisker.low  Year  \n",
       "0          NaN  2015  \n",
       "1          NaN  2015  \n",
       "2          NaN  2015  \n",
       "3          NaN  2015  \n",
       "4          NaN  2015  \n",
       "\n",
       "[5 rows x 21 columns]"
      ]
     },
     "execution_count": 18,
     "metadata": {},
     "output_type": "execute_result"
    }
   ],
   "source": [
    "df.head()"
   ]
  },
  {
   "cell_type": "markdown",
   "metadata": {},
   "source": [
    "### Rename variables"
   ]
  },
  {
   "cell_type": "code",
   "execution_count": 19,
   "metadata": {},
   "outputs": [],
   "source": [
    "df['GDP'] = df[['Economy (GDP per Capita)', 'GDP_Per_Capita']].max(axis=1) # combine two columns together since data frames had different name"
   ]
  },
  {
   "cell_type": "code",
   "execution_count": 20,
   "metadata": {},
   "outputs": [],
   "source": [
    "df['HealthLifeExpectancy'] = df[['Health (Life Expectancy)', 'Health..Life.Expectancy.']].max(axis=1)"
   ]
  },
  {
   "cell_type": "code",
   "execution_count": 21,
   "metadata": {},
   "outputs": [],
   "source": [
    "df = df.rename(columns = {'Trust (Government Corruption)': 'Trust_GovCorruption', 'Happiness Score': 'HappinessScore'})"
   ]
  },
  {
   "cell_type": "code",
   "execution_count": 22,
   "metadata": {
    "scrolled": true
   },
   "outputs": [],
   "source": [
    "df = df[['Country', 'Rank', 'HappinessScore', 'Family', \n",
    "       'GDP', 'HealthLifeExpectancy', 'Freedom', 'Trust_GovCorruption', 'Generosity', 'Year']]"
   ]
  },
  {
   "cell_type": "code",
   "execution_count": 23,
   "metadata": {},
   "outputs": [
    {
     "data": {
      "text/html": [
       "<div>\n",
       "<style scoped>\n",
       "    .dataframe tbody tr th:only-of-type {\n",
       "        vertical-align: middle;\n",
       "    }\n",
       "\n",
       "    .dataframe tbody tr th {\n",
       "        vertical-align: top;\n",
       "    }\n",
       "\n",
       "    .dataframe thead th {\n",
       "        text-align: right;\n",
       "    }\n",
       "</style>\n",
       "<table border=\"1\" class=\"dataframe\">\n",
       "  <thead>\n",
       "    <tr style=\"text-align: right;\">\n",
       "      <th></th>\n",
       "      <th>Country</th>\n",
       "      <th>Rank</th>\n",
       "      <th>HappinessScore</th>\n",
       "      <th>Family</th>\n",
       "      <th>GDP</th>\n",
       "      <th>HealthLifeExpectancy</th>\n",
       "      <th>Freedom</th>\n",
       "      <th>Trust_GovCorruption</th>\n",
       "      <th>Generosity</th>\n",
       "      <th>Year</th>\n",
       "    </tr>\n",
       "  </thead>\n",
       "  <tbody>\n",
       "    <tr>\n",
       "      <td>0</td>\n",
       "      <td>Switzerland</td>\n",
       "      <td>1</td>\n",
       "      <td>7.587</td>\n",
       "      <td>1.34951</td>\n",
       "      <td>1.39651</td>\n",
       "      <td>0.94143</td>\n",
       "      <td>0.66557</td>\n",
       "      <td>0.41978</td>\n",
       "      <td>0.29678</td>\n",
       "      <td>2015</td>\n",
       "    </tr>\n",
       "    <tr>\n",
       "      <td>1</td>\n",
       "      <td>Iceland</td>\n",
       "      <td>2</td>\n",
       "      <td>7.561</td>\n",
       "      <td>1.40223</td>\n",
       "      <td>1.30232</td>\n",
       "      <td>0.94784</td>\n",
       "      <td>0.62877</td>\n",
       "      <td>0.14145</td>\n",
       "      <td>0.43630</td>\n",
       "      <td>2015</td>\n",
       "    </tr>\n",
       "    <tr>\n",
       "      <td>2</td>\n",
       "      <td>Denmark</td>\n",
       "      <td>3</td>\n",
       "      <td>7.527</td>\n",
       "      <td>1.36058</td>\n",
       "      <td>1.32548</td>\n",
       "      <td>0.87464</td>\n",
       "      <td>0.64938</td>\n",
       "      <td>0.48357</td>\n",
       "      <td>0.34139</td>\n",
       "      <td>2015</td>\n",
       "    </tr>\n",
       "    <tr>\n",
       "      <td>3</td>\n",
       "      <td>Norway</td>\n",
       "      <td>4</td>\n",
       "      <td>7.522</td>\n",
       "      <td>1.33095</td>\n",
       "      <td>1.45900</td>\n",
       "      <td>0.88521</td>\n",
       "      <td>0.66973</td>\n",
       "      <td>0.36503</td>\n",
       "      <td>0.34699</td>\n",
       "      <td>2015</td>\n",
       "    </tr>\n",
       "    <tr>\n",
       "      <td>4</td>\n",
       "      <td>Canada</td>\n",
       "      <td>5</td>\n",
       "      <td>7.427</td>\n",
       "      <td>1.32261</td>\n",
       "      <td>1.32629</td>\n",
       "      <td>0.90563</td>\n",
       "      <td>0.63297</td>\n",
       "      <td>0.32957</td>\n",
       "      <td>0.45811</td>\n",
       "      <td>2015</td>\n",
       "    </tr>\n",
       "  </tbody>\n",
       "</table>\n",
       "</div>"
      ],
      "text/plain": [
       "       Country  Rank  HappinessScore   Family      GDP  HealthLifeExpectancy  \\\n",
       "0  Switzerland     1           7.587  1.34951  1.39651               0.94143   \n",
       "1      Iceland     2           7.561  1.40223  1.30232               0.94784   \n",
       "2      Denmark     3           7.527  1.36058  1.32548               0.87464   \n",
       "3       Norway     4           7.522  1.33095  1.45900               0.88521   \n",
       "4       Canada     5           7.427  1.32261  1.32629               0.90563   \n",
       "\n",
       "   Freedom  Trust_GovCorruption  Generosity  Year  \n",
       "0  0.66557              0.41978     0.29678  2015  \n",
       "1  0.62877              0.14145     0.43630  2015  \n",
       "2  0.64938              0.48357     0.34139  2015  \n",
       "3  0.66973              0.36503     0.34699  2015  \n",
       "4  0.63297              0.32957     0.45811  2015  "
      ]
     },
     "execution_count": 23,
     "metadata": {},
     "output_type": "execute_result"
    }
   ],
   "source": [
    "df.head()"
   ]
  },
  {
   "cell_type": "code",
   "execution_count": 24,
   "metadata": {},
   "outputs": [
    {
     "data": {
      "text/plain": [
       "Country                 0\n",
       "Rank                    0\n",
       "HappinessScore          0\n",
       "Family                  0\n",
       "GDP                     0\n",
       "HealthLifeExpectancy    0\n",
       "Freedom                 0\n",
       "Trust_GovCorruption     1\n",
       "Generosity              0\n",
       "Year                    0\n",
       "dtype: int64"
      ]
     },
     "execution_count": 24,
     "metadata": {},
     "output_type": "execute_result"
    }
   ],
   "source": [
    "df.isna().sum()"
   ]
  },
  {
   "cell_type": "code",
   "execution_count": 25,
   "metadata": {},
   "outputs": [],
   "source": [
    "# create new columns of continents\n",
    "asia = [\"Israel\", \"United Arab Emirates\", \"Singapore\", \"Thailand\", \"Taiwan Province of China\",\n",
    "                 \"Qatar\", \"Saudi Arabia\", \"Kuwait\", \"Bahrain\", \"Malaysia\", \"Uzbekistan\", \"Japan\",\n",
    "                 \"South Korea\", \"Turkmenistan\", \"Kazakhstan\", \"Turkey\", \"Hong Kong S.A.R., China\", \"Philippines\",\n",
    "                 \"Jordan\", \"China\", \"Pakistan\", \"Indonesia\", \"Azerbaijan\", \"Lebanon\", \"Vietnam\",\n",
    "                 \"Tajikistan\", \"Bhutan\", \"Kyrgyzstan\", \"Nepal\", \"Mongolia\", \"Palestinian Territories\",\n",
    "                 \"Iran\", \"Bangladesh\", \"Myanmar\", \"Iraq\", \"Sri Lanka\", \"Armenia\", \"India\", \"Georgia\",\n",
    "                 \"Cambodia\", \"Afghanistan\", \"Yemen\", \"Syria\"]\n",
    "europe = [\"Norway\", \"Denmark\", \"Iceland\", \"Switzerland\", \"Finland\",\n",
    "                 \"Netherlands\", \"Sweden\", \"Austria\", \"Ireland\", \"Germany\",\n",
    "                 \"Belgium\", \"Luxembourg\", \"United Kingdom\", \"Czech Republic\",\n",
    "                 \"Malta\", \"France\", \"Spain\", \"Slovakia\", \"Poland\", \"Italy\",\n",
    "                 \"Russia\", \"Lithuania\", \"Latvia\", \"Moldova\", \"Romania\",\n",
    "                 \"Slovenia\", \"North Cyprus\", \"Cyprus\", \"Estonia\", \"Belarus\",\n",
    "                 \"Serbia\", \"Hungary\", \"Croatia\", \"Kosovo\", \"Montenegro\",\n",
    "                 \"Greece\", \"Portugal\", \"Bosnia and Herzegovina\", \"Macedonia\",\n",
    "                 \"Bulgaria\", \"Albania\", \"Ukraine\"]\n",
    "north_america = [\"Canada\", \"Costa Rica\", \"United States\", \"Mexico\",  \n",
    "                 \"Panama\",\"Trinidad and Tobago\", \"El Salvador\", \"Belize\", \"Guatemala\",\n",
    "                 \"Jamaica\", \"Nicaragua\", \"Dominican Republic\", \"Honduras\",\n",
    "                 \"Haiti\"]\n",
    "south_america = [\"Chile\", \"Brazil\", \"Argentina\", \"Uruguay\",\n",
    "                 \"Colombia\", \"Ecuador\", \"Bolivia\", \"Peru\",\n",
    "                 \"Paraguay\", \"Venezuela\"]\n",
    "australia = [\"New Zealand\", \"Australia\"]\n",
    "d_asia = dict.fromkeys(asia, 'Asia')\n",
    "d_europe = dict.fromkeys(europe, 'Europe')\n",
    "d_north_america = dict.fromkeys(north_america, 'North America')\n",
    "d_south_america = dict.fromkeys(south_america, 'South America')\n",
    "d_australia = dict.fromkeys(australia, 'Australia')\n",
    "continent_dict = {**d_asia, **d_europe, **d_north_america, **d_south_america, **d_australia}\n",
    "df[\"continent\"] = df[\"Country\"].map(continent_dict)\n",
    "df.continent.fillna(\"Africa\", inplace=True)"
   ]
  },
  {
   "cell_type": "markdown",
   "metadata": {},
   "source": [
    "### Check NAs"
   ]
  },
  {
   "cell_type": "code",
   "execution_count": 26,
   "metadata": {},
   "outputs": [
    {
     "data": {
      "text/plain": [
       "Country                 0\n",
       "Rank                    0\n",
       "HappinessScore          0\n",
       "Family                  0\n",
       "GDP                     0\n",
       "HealthLifeExpectancy    0\n",
       "Freedom                 0\n",
       "Trust_GovCorruption     1\n",
       "Generosity              0\n",
       "Year                    0\n",
       "continent               0\n",
       "dtype: int64"
      ]
     },
     "execution_count": 26,
     "metadata": {},
     "output_type": "execute_result"
    }
   ],
   "source": [
    "df.isna().sum()"
   ]
  },
  {
   "cell_type": "code",
   "execution_count": 27,
   "metadata": {},
   "outputs": [],
   "source": [
    "df['Trust_GovCorruption'].fillna(df['Trust_GovCorruption'].median(),inplace=True) # impute one missing data with median"
   ]
  },
  {
   "cell_type": "code",
   "execution_count": 28,
   "metadata": {},
   "outputs": [
    {
     "data": {
      "text/plain": [
       "(626, 11)"
      ]
     },
     "execution_count": 28,
     "metadata": {},
     "output_type": "execute_result"
    }
   ],
   "source": [
    "df.shape"
   ]
  },
  {
   "cell_type": "code",
   "execution_count": 29,
   "metadata": {},
   "outputs": [],
   "source": [
    "df.to_csv('happiness.csv')"
   ]
  },
  {
   "cell_type": "code",
   "execution_count": 30,
   "metadata": {},
   "outputs": [
    {
     "data": {
      "text/html": [
       "<div>\n",
       "<style scoped>\n",
       "    .dataframe tbody tr th:only-of-type {\n",
       "        vertical-align: middle;\n",
       "    }\n",
       "\n",
       "    .dataframe tbody tr th {\n",
       "        vertical-align: top;\n",
       "    }\n",
       "\n",
       "    .dataframe thead th {\n",
       "        text-align: right;\n",
       "    }\n",
       "</style>\n",
       "<table border=\"1\" class=\"dataframe\">\n",
       "  <thead>\n",
       "    <tr style=\"text-align: right;\">\n",
       "      <th></th>\n",
       "      <th>Country</th>\n",
       "      <th>Rank</th>\n",
       "      <th>HappinessScore</th>\n",
       "      <th>Family</th>\n",
       "      <th>GDP</th>\n",
       "      <th>HealthLifeExpectancy</th>\n",
       "      <th>Freedom</th>\n",
       "      <th>Trust_GovCorruption</th>\n",
       "      <th>Generosity</th>\n",
       "      <th>Year</th>\n",
       "      <th>continent</th>\n",
       "    </tr>\n",
       "  </thead>\n",
       "  <tbody>\n",
       "    <tr>\n",
       "      <td>0</td>\n",
       "      <td>Switzerland</td>\n",
       "      <td>1</td>\n",
       "      <td>7.587</td>\n",
       "      <td>1.34951</td>\n",
       "      <td>1.39651</td>\n",
       "      <td>0.94143</td>\n",
       "      <td>0.66557</td>\n",
       "      <td>0.41978</td>\n",
       "      <td>0.29678</td>\n",
       "      <td>2015</td>\n",
       "      <td>Europe</td>\n",
       "    </tr>\n",
       "    <tr>\n",
       "      <td>1</td>\n",
       "      <td>Iceland</td>\n",
       "      <td>2</td>\n",
       "      <td>7.561</td>\n",
       "      <td>1.40223</td>\n",
       "      <td>1.30232</td>\n",
       "      <td>0.94784</td>\n",
       "      <td>0.62877</td>\n",
       "      <td>0.14145</td>\n",
       "      <td>0.43630</td>\n",
       "      <td>2015</td>\n",
       "      <td>Europe</td>\n",
       "    </tr>\n",
       "    <tr>\n",
       "      <td>2</td>\n",
       "      <td>Denmark</td>\n",
       "      <td>3</td>\n",
       "      <td>7.527</td>\n",
       "      <td>1.36058</td>\n",
       "      <td>1.32548</td>\n",
       "      <td>0.87464</td>\n",
       "      <td>0.64938</td>\n",
       "      <td>0.48357</td>\n",
       "      <td>0.34139</td>\n",
       "      <td>2015</td>\n",
       "      <td>Europe</td>\n",
       "    </tr>\n",
       "    <tr>\n",
       "      <td>3</td>\n",
       "      <td>Norway</td>\n",
       "      <td>4</td>\n",
       "      <td>7.522</td>\n",
       "      <td>1.33095</td>\n",
       "      <td>1.45900</td>\n",
       "      <td>0.88521</td>\n",
       "      <td>0.66973</td>\n",
       "      <td>0.36503</td>\n",
       "      <td>0.34699</td>\n",
       "      <td>2015</td>\n",
       "      <td>Europe</td>\n",
       "    </tr>\n",
       "    <tr>\n",
       "      <td>4</td>\n",
       "      <td>Canada</td>\n",
       "      <td>5</td>\n",
       "      <td>7.427</td>\n",
       "      <td>1.32261</td>\n",
       "      <td>1.32629</td>\n",
       "      <td>0.90563</td>\n",
       "      <td>0.63297</td>\n",
       "      <td>0.32957</td>\n",
       "      <td>0.45811</td>\n",
       "      <td>2015</td>\n",
       "      <td>North America</td>\n",
       "    </tr>\n",
       "  </tbody>\n",
       "</table>\n",
       "</div>"
      ],
      "text/plain": [
       "       Country  Rank  HappinessScore   Family      GDP  HealthLifeExpectancy  \\\n",
       "0  Switzerland     1           7.587  1.34951  1.39651               0.94143   \n",
       "1      Iceland     2           7.561  1.40223  1.30232               0.94784   \n",
       "2      Denmark     3           7.527  1.36058  1.32548               0.87464   \n",
       "3       Norway     4           7.522  1.33095  1.45900               0.88521   \n",
       "4       Canada     5           7.427  1.32261  1.32629               0.90563   \n",
       "\n",
       "   Freedom  Trust_GovCorruption  Generosity  Year      continent  \n",
       "0  0.66557              0.41978     0.29678  2015         Europe  \n",
       "1  0.62877              0.14145     0.43630  2015         Europe  \n",
       "2  0.64938              0.48357     0.34139  2015         Europe  \n",
       "3  0.66973              0.36503     0.34699  2015         Europe  \n",
       "4  0.63297              0.32957     0.45811  2015  North America  "
      ]
     },
     "execution_count": 30,
     "metadata": {},
     "output_type": "execute_result"
    }
   ],
   "source": [
    "df.head()"
   ]
  },
  {
   "cell_type": "code",
   "execution_count": 31,
   "metadata": {},
   "outputs": [],
   "source": [
    "df = np.round(df, decimals=3) # round our data into 3 decimal places"
   ]
  }
 ],
 "metadata": {
  "kernelspec": {
   "display_name": "Python 3",
   "language": "python",
   "name": "python3"
  },
  "language_info": {
   "codemirror_mode": {
    "name": "ipython",
    "version": 3
   },
   "file_extension": ".py",
   "mimetype": "text/x-python",
   "name": "python",
   "nbconvert_exporter": "python",
   "pygments_lexer": "ipython3",
   "version": "3.7.4"
  }
 },
 "nbformat": 4,
 "nbformat_minor": 2
}
